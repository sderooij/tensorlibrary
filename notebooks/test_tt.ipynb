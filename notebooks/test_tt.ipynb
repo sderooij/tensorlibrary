{
 "cells": [
  {
   "cell_type": "code",
   "execution_count": 7,
   "metadata": {
    "collapsed": true
   },
   "outputs": [],
   "source": [
    "from tensorlibrary import TensorTrain\n",
    "import tensornetwork as tn\n",
    "import numpy as np"
   ]
  },
  {
   "cell_type": "code",
   "execution_count": 8,
   "outputs": [],
   "source": [
    "from tensorlibrary.linalg.linalg import truncated_svd"
   ],
   "metadata": {
    "collapsed": false
   }
  },
  {
   "cell_type": "code",
   "execution_count": 9,
   "outputs": [],
   "source": [
    "A = np.random.rand(1000,1000)\n",
    "u, s, vh, err = truncated_svd(A)"
   ],
   "metadata": {
    "collapsed": false
   }
  },
  {
   "cell_type": "code",
   "execution_count": 10,
   "outputs": [
    {
     "data": {
      "text/plain": "array([[0.58109651, 0.55647949, 0.81957291, ..., 0.05561118, 0.75929822,\n        0.72544764],\n       [0.40206923, 0.23137218, 0.37130167, ..., 0.6403635 , 0.70127404,\n        0.67044803],\n       [0.03503408, 0.75374188, 0.89049606, ..., 0.95968716, 0.40654128,\n        0.13300418],\n       ...,\n       [0.7736953 , 0.00949088, 0.12271166, ..., 0.44203349, 0.29730636,\n        0.20302367],\n       [0.54790336, 0.83143865, 0.12033208, ..., 0.61602945, 0.94686878,\n        0.35935255],\n       [0.29668418, 0.93055866, 0.43212037, ..., 0.52661415, 0.50615391,\n        0.41715145]])"
     },
     "execution_count": 10,
     "metadata": {},
     "output_type": "execute_result"
    }
   ],
   "source": [
    "u @ np.diag(s) @ vh"
   ],
   "metadata": {
    "collapsed": false
   }
  },
  {
   "cell_type": "code",
   "execution_count": 11,
   "outputs": [],
   "source": [
    "atens = np.random.rand(100,100,100,100\n",
    "                       )"
   ],
   "metadata": {
    "collapsed": false
   }
  },
  {
   "cell_type": "code",
   "execution_count": 12,
   "outputs": [
    {
     "ename": "KeyboardInterrupt",
     "evalue": "",
     "output_type": "error",
     "traceback": [
      "\u001B[1;31m---------------------------------------------------------------------------\u001B[0m",
      "\u001B[1;31mKeyboardInterrupt\u001B[0m                         Traceback (most recent call last)",
      "Cell \u001B[1;32mIn[12], line 1\u001B[0m\n\u001B[1;32m----> 1\u001B[0m att \u001B[38;5;241m=\u001B[39m \u001B[43mTensorTrain\u001B[49m\u001B[43m(\u001B[49m\u001B[43mtensor\u001B[49m\u001B[38;5;241;43m=\u001B[39;49m\u001B[43matens\u001B[49m\u001B[43m,\u001B[49m\u001B[43m \u001B[49m\u001B[43mmax_ranks\u001B[49m\u001B[43m \u001B[49m\u001B[38;5;241;43m=\u001B[39;49m\u001B[43m \u001B[49m\u001B[38;5;241;43m100\u001B[39;49m\u001B[43m,\u001B[49m\u001B[43m \u001B[49m\u001B[43mmax_trunc_error\u001B[49m\u001B[38;5;241;43m=\u001B[39;49m\u001B[38;5;241;43m0.1\u001B[39;49m\u001B[43m,\u001B[49m\u001B[43m \u001B[49m\u001B[43mrelative\u001B[49m\u001B[38;5;241;43m=\u001B[39;49m\u001B[38;5;28;43;01mTrue\u001B[39;49;00m\u001B[43m)\u001B[49m\n",
      "File \u001B[1;32m~\\surfdrive\\Code\\TensorLibrary\\src\\tensorlibrary\\Decompositions\\TensorTrain.py:39\u001B[0m, in \u001B[0;36mTensorTrain.__init__\u001B[1;34m(self, tensor, cores, max_ranks, max_trunc_error, svd_method, relative, backend, norm_index)\u001B[0m\n\u001B[0;32m     37\u001B[0m     \u001B[38;5;28mself\u001B[39m\u001B[38;5;241m.\u001B[39mnorm_index \u001B[38;5;241m=\u001B[39m norm_index\n\u001B[0;32m     38\u001B[0m \u001B[38;5;28;01melse\u001B[39;00m:\n\u001B[1;32m---> 39\u001B[0m     corelist, ranks, errs \u001B[38;5;241m=\u001B[39m \u001B[43mtt_svd\u001B[49m\u001B[43m(\u001B[49m\n\u001B[0;32m     40\u001B[0m \u001B[43m        \u001B[49m\u001B[43mtensor\u001B[49m\u001B[43m,\u001B[49m\n\u001B[0;32m     41\u001B[0m \u001B[43m        \u001B[49m\u001B[43mmax_ranks\u001B[49m\u001B[38;5;241;43m=\u001B[39;49m\u001B[43mmax_ranks\u001B[49m\u001B[43m,\u001B[49m\n\u001B[0;32m     42\u001B[0m \u001B[43m        \u001B[49m\u001B[43mmax_trunc_error\u001B[49m\u001B[38;5;241;43m=\u001B[39;49m\u001B[43mmax_trunc_error\u001B[49m\u001B[43m,\u001B[49m\n\u001B[0;32m     43\u001B[0m \u001B[43m        \u001B[49m\u001B[43mrelative\u001B[49m\u001B[38;5;241;43m=\u001B[39;49m\u001B[43mrelative\u001B[49m\u001B[43m,\u001B[49m\n\u001B[0;32m     44\u001B[0m \u001B[43m    \u001B[49m\u001B[43m)\u001B[49m\n\u001B[0;32m     45\u001B[0m     \u001B[38;5;28mself\u001B[39m\u001B[38;5;241m.\u001B[39mnorm_index \u001B[38;5;241m=\u001B[39m \u001B[38;5;28mlen\u001B[39m(corelist) \u001B[38;5;241m-\u001B[39m \u001B[38;5;241m1\u001B[39m\n\u001B[0;32m     47\u001B[0m \u001B[38;5;28mself\u001B[39m\u001B[38;5;241m.\u001B[39m__cores_to_nodes(corelist)\n",
      "File \u001B[1;32m~\\surfdrive\\Code\\TensorLibrary\\src\\tensorlibrary\\linalg\\linalg.py:73\u001B[0m, in \u001B[0;36mtt_svd\u001B[1;34m(tensor, max_ranks, max_trunc_error, relative)\u001B[0m\n\u001B[0;32m     71\u001B[0m \u001B[38;5;28;01mfor\u001B[39;00m i \u001B[38;5;129;01min\u001B[39;00m \u001B[38;5;28mrange\u001B[39m(\u001B[38;5;241m1\u001B[39m, d \u001B[38;5;241m-\u001B[39m \u001B[38;5;241m1\u001B[39m):\n\u001B[0;32m     72\u001B[0m     tensor \u001B[38;5;241m=\u001B[39m tl\u001B[38;5;241m.\u001B[39mreshape(tensor, (sz[i] \u001B[38;5;241m*\u001B[39m ranks[i \u001B[38;5;241m-\u001B[39m \u001B[38;5;241m1\u001B[39m], np\u001B[38;5;241m.\u001B[39mprod(sz[i \u001B[38;5;241m+\u001B[39m \u001B[38;5;241m1\u001B[39m :])))\n\u001B[1;32m---> 73\u001B[0m     u, s, vh, err \u001B[38;5;241m=\u001B[39m \u001B[43mtruncated_svd\u001B[49m\u001B[43m(\u001B[49m\n\u001B[0;32m     74\u001B[0m \u001B[43m        \u001B[49m\u001B[43mtensor\u001B[49m\u001B[43m,\u001B[49m\n\u001B[0;32m     75\u001B[0m \u001B[43m        \u001B[49m\u001B[43mmax_rank\u001B[49m\u001B[38;5;241;43m=\u001B[39;49m\u001B[43mmax_ranks\u001B[49m\u001B[43m[\u001B[49m\u001B[43mi\u001B[49m\u001B[43m]\u001B[49m\u001B[43m,\u001B[49m\n\u001B[0;32m     76\u001B[0m \u001B[43m        \u001B[49m\u001B[43mmax_trunc_error\u001B[49m\u001B[38;5;241;43m=\u001B[39;49m\u001B[43mmax_trunc_error\u001B[49m\u001B[43m[\u001B[49m\u001B[43mi\u001B[49m\u001B[43m]\u001B[49m\u001B[43m,\u001B[49m\n\u001B[0;32m     77\u001B[0m \u001B[43m        \u001B[49m\u001B[43mrelative\u001B[49m\u001B[38;5;241;43m=\u001B[39;49m\u001B[43mrelative\u001B[49m\u001B[43m,\u001B[49m\n\u001B[0;32m     78\u001B[0m \u001B[43m    \u001B[49m\u001B[43m)\u001B[49m\n\u001B[0;32m     79\u001B[0m     corelist\u001B[38;5;241m.\u001B[39mappend(tl\u001B[38;5;241m.\u001B[39mreshape(u, (ranks[i \u001B[38;5;241m-\u001B[39m \u001B[38;5;241m1\u001B[39m], sz[i], u\u001B[38;5;241m.\u001B[39mshape[\u001B[38;5;241m1\u001B[39m])))\n\u001B[0;32m     80\u001B[0m     tensor \u001B[38;5;241m=\u001B[39m np\u001B[38;5;241m.\u001B[39mdiag(s) \u001B[38;5;241m@\u001B[39m vh\n",
      "File \u001B[1;32m~\\surfdrive\\Code\\TensorLibrary\\src\\tensorlibrary\\linalg\\linalg.py:16\u001B[0m, in \u001B[0;36mtruncated_svd\u001B[1;34m(mat, max_rank, max_trunc_error, relative)\u001B[0m\n\u001B[0;32m     10\u001B[0m \u001B[38;5;28;01mdef\u001B[39;00m \u001B[38;5;21mtruncated_svd\u001B[39m(\n\u001B[0;32m     11\u001B[0m     mat,\n\u001B[0;32m     12\u001B[0m     max_rank: \u001B[38;5;28mint\u001B[39m \u001B[38;5;241m=\u001B[39m np\u001B[38;5;241m.\u001B[39minf,\n\u001B[0;32m     13\u001B[0m     max_trunc_error: Optional[\u001B[38;5;28mfloat\u001B[39m] \u001B[38;5;241m=\u001B[39m \u001B[38;5;241m0.0\u001B[39m,\n\u001B[0;32m     14\u001B[0m     relative: Optional[\u001B[38;5;28mbool\u001B[39m] \u001B[38;5;241m=\u001B[39m \u001B[38;5;28;01mFalse\u001B[39;00m,\n\u001B[0;32m     15\u001B[0m ):\n\u001B[1;32m---> 16\u001B[0m     u, s, vh \u001B[38;5;241m=\u001B[39m \u001B[43mtl\u001B[49m\u001B[38;5;241;43m.\u001B[39;49m\u001B[43msvd\u001B[49m\u001B[43m(\u001B[49m\u001B[43mmat\u001B[49m\u001B[43m,\u001B[49m\u001B[43m \u001B[49m\u001B[43mfull_matrices\u001B[49m\u001B[38;5;241;43m=\u001B[39;49m\u001B[38;5;28;43;01mFalse\u001B[39;49;00m\u001B[43m)\u001B[49m\n\u001B[0;32m     17\u001B[0m     \u001B[38;5;28;01mif\u001B[39;00m np\u001B[38;5;241m.\u001B[39misinf(max_rank) \u001B[38;5;129;01mand\u001B[39;00m max_trunc_error \u001B[38;5;241m==\u001B[39m \u001B[38;5;241m0.0\u001B[39m:\n\u001B[0;32m     18\u001B[0m         \u001B[38;5;28;01mreturn\u001B[39;00m u, s, vh, \u001B[38;5;241m0.0\u001B[39m\n",
      "File \u001B[1;32m~\\Anaconda3\\envs\\TensorLibrary\\lib\\site-packages\\tensorly\\backend\\__init__.py:206\u001B[0m, in \u001B[0;36mBackendManager.dispatch_backend_method.<locals>.wrapped_backend_method\u001B[1;34m(*args, **kwargs)\u001B[0m\n\u001B[0;32m    202\u001B[0m \u001B[38;5;28;01mdef\u001B[39;00m \u001B[38;5;21mwrapped_backend_method\u001B[39m(\u001B[38;5;241m*\u001B[39margs, \u001B[38;5;241m*\u001B[39m\u001B[38;5;241m*\u001B[39mkwargs):\n\u001B[0;32m    203\u001B[0m     \u001B[38;5;124;03m\"\"\"A dynamically dispatched method\u001B[39;00m\n\u001B[0;32m    204\u001B[0m \n\u001B[0;32m    205\u001B[0m \u001B[38;5;124;03m    Returns the queried method from the currently set backend\"\"\"\u001B[39;00m\n\u001B[1;32m--> 206\u001B[0m     \u001B[38;5;28;01mreturn\u001B[39;00m \u001B[38;5;28mgetattr\u001B[39m(\n\u001B[0;32m    207\u001B[0m         \u001B[38;5;28mcls\u001B[39m\u001B[38;5;241m.\u001B[39m_THREAD_LOCAL_DATA\u001B[38;5;241m.\u001B[39m\u001B[38;5;18m__dict__\u001B[39m\u001B[38;5;241m.\u001B[39mget(\u001B[38;5;124m\"\u001B[39m\u001B[38;5;124mbackend\u001B[39m\u001B[38;5;124m\"\u001B[39m, \u001B[38;5;28mcls\u001B[39m\u001B[38;5;241m.\u001B[39m_backend), name\n\u001B[0;32m    208\u001B[0m     )(\u001B[38;5;241m*\u001B[39margs, \u001B[38;5;241m*\u001B[39m\u001B[38;5;241m*\u001B[39mkwargs)\n",
      "File \u001B[1;32m<__array_function__ internals>:180\u001B[0m, in \u001B[0;36msvd\u001B[1;34m(*args, **kwargs)\u001B[0m\n",
      "File \u001B[1;32m~\\Anaconda3\\envs\\TensorLibrary\\lib\\site-packages\\numpy\\linalg\\linalg.py:1657\u001B[0m, in \u001B[0;36msvd\u001B[1;34m(a, full_matrices, compute_uv, hermitian)\u001B[0m\n\u001B[0;32m   1654\u001B[0m         gufunc \u001B[38;5;241m=\u001B[39m _umath_linalg\u001B[38;5;241m.\u001B[39msvd_n_s\n\u001B[0;32m   1656\u001B[0m signature \u001B[38;5;241m=\u001B[39m \u001B[38;5;124m'\u001B[39m\u001B[38;5;124mD->DdD\u001B[39m\u001B[38;5;124m'\u001B[39m \u001B[38;5;28;01mif\u001B[39;00m isComplexType(t) \u001B[38;5;28;01melse\u001B[39;00m \u001B[38;5;124m'\u001B[39m\u001B[38;5;124md->ddd\u001B[39m\u001B[38;5;124m'\u001B[39m\n\u001B[1;32m-> 1657\u001B[0m u, s, vh \u001B[38;5;241m=\u001B[39m \u001B[43mgufunc\u001B[49m\u001B[43m(\u001B[49m\u001B[43ma\u001B[49m\u001B[43m,\u001B[49m\u001B[43m \u001B[49m\u001B[43msignature\u001B[49m\u001B[38;5;241;43m=\u001B[39;49m\u001B[43msignature\u001B[49m\u001B[43m,\u001B[49m\u001B[43m \u001B[49m\u001B[43mextobj\u001B[49m\u001B[38;5;241;43m=\u001B[39;49m\u001B[43mextobj\u001B[49m\u001B[43m)\u001B[49m\n\u001B[0;32m   1658\u001B[0m u \u001B[38;5;241m=\u001B[39m u\u001B[38;5;241m.\u001B[39mastype(result_t, copy\u001B[38;5;241m=\u001B[39m\u001B[38;5;28;01mFalse\u001B[39;00m)\n\u001B[0;32m   1659\u001B[0m s \u001B[38;5;241m=\u001B[39m s\u001B[38;5;241m.\u001B[39mastype(_realType(result_t), copy\u001B[38;5;241m=\u001B[39m\u001B[38;5;28;01mFalse\u001B[39;00m)\n",
      "\u001B[1;31mKeyboardInterrupt\u001B[0m: "
     ]
    }
   ],
   "source": [
    "att = TensorTrain(tensor=atens, max_ranks = 100, max_trunc_error=0.1, relative=True)"
   ],
   "metadata": {
    "collapsed": false
   }
  }
 ],
 "metadata": {
  "kernelspec": {
   "display_name": "Python 3",
   "language": "python",
   "name": "python3"
  },
  "language_info": {
   "codemirror_mode": {
    "name": "ipython",
    "version": 2
   },
   "file_extension": ".py",
   "mimetype": "text/x-python",
   "name": "python",
   "nbconvert_exporter": "python",
   "pygments_lexer": "ipython2",
   "version": "2.7.6"
  }
 },
 "nbformat": 4,
 "nbformat_minor": 0
}
