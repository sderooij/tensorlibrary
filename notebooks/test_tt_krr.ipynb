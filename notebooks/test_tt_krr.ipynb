{
 "cells": [
  {
   "cell_type": "code",
   "execution_count": 1,
   "metadata": {
    "collapsed": true
   },
   "outputs": [],
   "source": [
    "from tensorlibrary.learning.tt_krr import tt_krr, tt_krr_als, tt_krr_sweep, features, get_g\n",
    "from tensorlibrary.random import tt_random\n",
    "import numpy as np\n",
    "import tensorly as tl\n",
    "from time import perf_counter"
   ]
  },
  {
   "cell_type": "code",
   "execution_count": 2,
   "outputs": [
    {
     "name": "stdout",
     "output_type": "stream",
     "text": [
      "1.0000000000000002\n",
      "1.0\n"
     ]
    }
   ],
   "source": [
    "tt = tt_random((20,20,10,10,20), [10,10,10,10])\n",
    "print(tt.dot(tt))\n",
    "print(tt.norm())"
   ],
   "metadata": {
    "collapsed": false
   }
  },
  {
   "cell_type": "code",
   "execution_count": 3,
   "outputs": [
    {
     "name": "stdout",
     "output_type": "stream",
     "text": [
      "0.9999999999999999\n",
      "3\n"
     ]
    }
   ],
   "source": [
    "tt.shiftnorm(3)\n",
    "print(tt.norm())\n",
    "print(tt.norm_index)"
   ],
   "metadata": {
    "collapsed": false
   }
  },
  {
   "cell_type": "code",
   "execution_count": 4,
   "outputs": [
    {
     "data": {
      "text/plain": "array([10, 10, 10, 10])"
     },
     "execution_count": 4,
     "metadata": {},
     "output_type": "execute_result"
    }
   ],
   "source": [
    "tt.shape\n",
    "tt.ranks"
   ],
   "metadata": {
    "collapsed": false
   }
  },
  {
   "cell_type": "code",
   "execution_count": 5,
   "outputs": [
    {
     "name": "stdout",
     "output_type": "stream",
     "text": [
      "[[ 0.48707291  0.19551417 -0.38610189 -0.33277095  0.22109233  0.37862303\n",
      "  -0.04777851 -0.3363741  -0.08463169  0.2386104 ]\n",
      " [ 0.49296322 -0.13158793 -0.43453252  0.23536323  0.33315095 -0.29269305\n",
      "  -0.21385155  0.29927562  0.10226706 -0.26441145]\n",
      " [ 0.44003454 -0.40331637 -0.05371719  0.42257511 -0.32457223 -0.09036503\n",
      "   0.35777882 -0.22849653 -0.10158676  0.2673536 ]\n",
      " [ 0.38610713  0.47816371  0.21739195 -0.1813858  -0.41343137 -0.32701611\n",
      "  -0.02421714  0.24729188  0.3007931   0.13945303]\n",
      " [ 0.49697535  0.04822834 -0.46842302 -0.08913693  0.41606383  0.11722364\n",
      "  -0.34811528 -0.13000109  0.27418492  0.12822025]\n",
      " [ 0.46022253 -0.34351304 -0.18480618  0.45358242 -0.15881779 -0.28810329\n",
      "   0.33914146  0.00732652 -0.28340674  0.18578844]\n",
      " [ 0.49343863 -0.12478447 -0.43850995  0.22407224  0.34269175 -0.28055528\n",
      "  -0.22883032  0.28979164  0.12061818 -0.25971935]\n",
      " [ 0.45812335  0.35103595 -0.17038218 -0.45336301 -0.18039684  0.26917119\n",
      "   0.3494866   0.02221271 -0.27127037 -0.20611449]\n",
      " [ 0.35324261 -0.48844471  0.33087978  0.00722297 -0.30940769  0.40084732\n",
      "  -0.25428187 -0.0107424   0.22235708 -0.26996413]\n",
      " [ 0.44747199  0.38422944 -0.10004626 -0.44062785 -0.27396164  0.16557216\n",
      "   0.36992914  0.15567407 -0.18105046 -0.26552495]\n",
      " [ 0.45772657 -0.35241768 -0.16767671  0.45322612 -0.18435551 -0.26551665\n",
      "   0.35118714 -0.02769873 -0.26871685  0.20963196]\n",
      " [ 0.49095924  0.15676197 -0.41787951 -0.27575309  0.29375831  0.33302815\n",
      "  -0.15336121 -0.32567552  0.03050551  0.2696462 ]\n",
      " [ 0.4816828   0.23716333 -0.34315072 -0.38507933  0.1281905   0.40046301\n",
      "   0.07482788 -0.30272558 -0.19814331  0.15405164]\n",
      " [ 0.42656678 -0.4311873   0.02448623  0.3762744  -0.38871531  0.0414037\n",
      "   0.29587686 -0.31257869  0.04694707  0.2073369 ]\n",
      " [ 0.42457073  0.43468892  0.03546385 -0.36825032 -0.39545814 -0.05987746\n",
      "   0.28340323  0.31983421  0.06772736 -0.19331863]]\n"
     ]
    }
   ],
   "source": [
    "N = 100\n",
    "D = 15\n",
    "m = 10\n",
    "x = np.random.random((N, D))\n",
    "xf = features(x[2,:], m,kernel_type='rbf', kernel_param=0.1)\n",
    "print(xf)"
   ],
   "metadata": {
    "collapsed": false
   }
  },
  {
   "cell_type": "code",
   "execution_count": 6,
   "outputs": [
    {
     "name": "stdout",
     "output_type": "stream",
     "text": [
      "14\n",
      "14\n"
     ]
    }
   ],
   "source": [
    "sz = m*np.ones(D, dtype=int)\n",
    "ranks = [5 for k in range(0,D-1)]\n",
    "print(len(ranks))\n",
    "weigths = tt_random(sz, ranks)\n",
    "print(len(ranks))"
   ],
   "metadata": {
    "collapsed": false
   }
  },
  {
   "cell_type": "code",
   "execution_count": 7,
   "outputs": [
    {
     "data": {
      "text/plain": "14"
     },
     "execution_count": 7,
     "metadata": {},
     "output_type": "execute_result"
    }
   ],
   "source": [
    "G = get_g(weigths, xf, 14)\n",
    "G.shape\n",
    "len(ranks)"
   ],
   "metadata": {
    "collapsed": false
   }
  },
  {
   "cell_type": "code",
   "execution_count": 8,
   "outputs": [],
   "source": [
    "y = np.ones(N, dtype=int)\n",
    "# tt_krr_sweep(weigths, x, y, m, 0.1, kernel_param=0.1, kernel_type='rbf')"
   ],
   "metadata": {
    "collapsed": false
   }
  },
  {
   "cell_type": "code",
   "execution_count": 9,
   "outputs": [
    {
     "data": {
      "text/plain": "14"
     },
     "execution_count": 9,
     "metadata": {},
     "output_type": "execute_result"
    }
   ],
   "source": [
    "len(ranks)"
   ],
   "metadata": {
    "collapsed": false
   }
  },
  {
   "cell_type": "code",
   "execution_count": null,
   "outputs": [],
   "source": [
    "weights = tt_krr(x, y, m, ranks, 1e-9, 5, kernel_type=\"rbf\", kernel_param=0.2)"
   ],
   "metadata": {
    "collapsed": false,
    "pycharm": {
     "is_executing": true
    }
   }
  },
  {
   "cell_type": "code",
   "execution_count": 11,
   "outputs": [],
   "source": [
    "z = [tl.tensor(xf_row) for xf_row in xf]\n",
    "z = [tl.reshape(zz, (1, len(zz),1)) for zz in z]"
   ],
   "metadata": {
    "collapsed": false
   }
  },
  {
   "cell_type": "code",
   "execution_count": 11,
   "outputs": [],
   "source": [],
   "metadata": {
    "collapsed": false
   }
  },
  {
   "cell_type": "code",
   "execution_count": 31,
   "outputs": [
    {
     "name": "stdout",
     "output_type": "stream",
     "text": [
      "1.0\n"
     ]
    }
   ],
   "source": [
    "from tensorlibrary.learning.tt_krr import tt_krr_predict\n",
    "label = tt_krr_predict(weights, x[1,:], m, kernel_type='rbf', kernel_param=0.2)\n",
    "print(np.sign(label))"
   ],
   "metadata": {
    "collapsed": false
   }
  },
  {
   "cell_type": "code",
   "execution_count": null,
   "outputs": [],
   "source": [
    "weights.norm()**2*1e-9"
   ],
   "metadata": {
    "collapsed": false,
    "pycharm": {
     "is_executing": true
    }
   }
  }
 ],
 "metadata": {
  "kernelspec": {
   "display_name": "Python 3",
   "language": "python",
   "name": "python3"
  },
  "language_info": {
   "codemirror_mode": {
    "name": "ipython",
    "version": 2
   },
   "file_extension": ".py",
   "mimetype": "text/x-python",
   "name": "python",
   "nbconvert_exporter": "python",
   "pygments_lexer": "ipython2",
   "version": "2.7.6"
  }
 },
 "nbformat": 4,
 "nbformat_minor": 0
}
