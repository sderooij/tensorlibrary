{
 "cells": [
  {
   "metadata": {},
   "cell_type": "markdown",
   "source": "Test to calculate the frobenius norm difference between two CP's",
   "id": "acb97341603c88a1"
  },
  {
   "metadata": {
    "ExecuteTime": {
     "end_time": "2024-12-09T13:05:35.258610Z",
     "start_time": "2024-12-09T13:05:33.753345Z"
    }
   },
   "cell_type": "code",
   "source": [
    "import tensorly as tl\n",
    "import tensorlibrary as tlib\n"
   ],
   "id": "a5f234c7e545a1e6",
   "outputs": [],
   "execution_count": 2
  },
  {
   "metadata": {},
   "cell_type": "markdown",
   "source": "Generate two random CP's",
   "id": "5bb9bbef4c880bbc"
  },
  {
   "metadata": {
    "ExecuteTime": {
     "end_time": "2024-12-09T13:36:11.750821Z",
     "start_time": "2024-12-09T13:36:11.737819Z"
    }
   },
   "cell_type": "code",
   "source": [
    "Wcp = tl.random.random_cp((10, 5, 11, 15), rank=6)\n",
    "Vcp = tl.random.random_cp((10, 5, 11, 15), rank=5)"
   ],
   "id": "dcb2e6114b49a1e4",
   "outputs": [],
   "execution_count": 70
  },
  {
   "metadata": {
    "ExecuteTime": {
     "end_time": "2024-12-09T13:36:12.250765Z",
     "start_time": "2024-12-09T13:36:12.246758Z"
    }
   },
   "cell_type": "code",
   "source": [
    "W = tl.cp_to_tensor(Wcp)\n",
    "V = tl.cp_to_tensor(Vcp)"
   ],
   "id": "9957591cebfb795",
   "outputs": [],
   "execution_count": 71
  },
  {
   "metadata": {
    "ExecuteTime": {
     "end_time": "2024-12-09T13:36:12.693114Z",
     "start_time": "2024-12-09T13:36:12.684115Z"
    }
   },
   "cell_type": "code",
   "source": [
    "wv = tl.tensordot(W, V, axes=([0,1,2,3],[0,1,2,3]))\n",
    "print(wv)\n",
    "# wv = tl.dot(tl.tensor_to_vec(W), tl.tensor_to_vec(V))"
   ],
   "id": "b52eb9b27a91078f",
   "outputs": [
    {
     "name": "stdout",
     "output_type": "stream",
     "text": [
      "971.1723945463497\n"
     ]
    }
   ],
   "execution_count": 72
  },
  {
   "metadata": {
    "ExecuteTime": {
     "end_time": "2024-12-09T13:44:17.600138Z",
     "start_time": "2024-12-09T13:44:17.592149Z"
    }
   },
   "cell_type": "code",
   "source": [
    "def cp_dot(tensor1, tensor2):\n",
    "    \n",
    "    if isinstance(tensor1, tl.cp_tensor.CPTensor):\n",
    "        factors1 = tensor1.factors.copy()\n",
    "        factors1[0] = factors1[0]*tensor1.weights\n",
    "    elif isinstance(tensor1, list):\n",
    "        factors1 = tensor1.copy()\n",
    "    \n",
    "    if isinstance(tensor2, tl.cp_tensor.CPTensor):\n",
    "        factors2 = tensor2.factors.copy()\n",
    "        factors2[0] = factors2[0]*tensor2.weights\n",
    "    elif isinstance(tensor2, list):\n",
    "        factors2 = tensor2.copy()\n",
    "        \n",
    "    d = len(factors1)\n",
    "    assert d == len(factors2), \"Both tensors must have the same number of modes\"\n",
    "    assert all(factors1[i].shape[0] == factors2[i].shape[0] for i in range(d)), \"Dimension mismatch between tensors\"\n",
    "    r1 = factors1[0].shape[1]\n",
    "    r2 = factors2[0].shape[1]\n",
    "    result = tl.ones((r1,r2))\n",
    "    for i in range(0,d):\n",
    "        result *= factors1[i].T @ factors2[i]\n",
    "    \n",
    "    return tl.sum(result)"
   ],
   "id": "4984cdfb93f46918",
   "outputs": [],
   "execution_count": 91
  },
  {
   "metadata": {
    "ExecuteTime": {
     "end_time": "2024-12-09T13:42:59.457501Z",
     "start_time": "2024-12-09T13:42:59.440498Z"
    }
   },
   "cell_type": "code",
   "source": "",
   "id": "1c76fc922a878470",
   "outputs": [],
   "execution_count": 89
  },
  {
   "metadata": {
    "ExecuteTime": {
     "end_time": "2024-12-09T13:44:20.018282Z",
     "start_time": "2024-12-09T13:44:20.004322Z"
    }
   },
   "cell_type": "code",
   "source": "wv2 = cp_dot(Wcp,Vcp)",
   "id": "8c58cfdb8eee9869",
   "outputs": [],
   "execution_count": 92
  },
  {
   "metadata": {
    "ExecuteTime": {
     "end_time": "2024-12-09T13:44:21.839714Z",
     "start_time": "2024-12-09T13:44:21.829713Z"
    }
   },
   "cell_type": "code",
   "source": "print(wv2)",
   "id": "3ae42c51c08ec624",
   "outputs": [
    {
     "name": "stdout",
     "output_type": "stream",
     "text": [
      "971.1723945463498\n"
     ]
    }
   ],
   "execution_count": 93
  },
  {
   "metadata": {
    "ExecuteTime": {
     "end_time": "2024-12-09T13:36:24.435445Z",
     "start_time": "2024-12-09T13:36:24.415491Z"
    }
   },
   "cell_type": "code",
   "source": [
    "diff = W - V\n",
    "print(tl.tensordot(diff, diff, axes=([0,1,2,3],[0,1,2,3])))"
   ],
   "id": "42e92296ebb23829",
   "outputs": [
    {
     "name": "stdout",
     "output_type": "stream",
     "text": [
      "1100.1312466397615\n"
     ]
    }
   ],
   "execution_count": 78
  },
  {
   "metadata": {
    "ExecuteTime": {
     "end_time": "2024-12-09T13:27:11.866204Z",
     "start_time": "2024-12-09T13:27:11.849205Z"
    }
   },
   "cell_type": "code",
   "source": "",
   "id": "259043922796a1f2",
   "outputs": [],
   "execution_count": 35
  },
  {
   "metadata": {
    "ExecuteTime": {
     "end_time": "2024-12-09T13:36:31.798871Z",
     "start_time": "2024-12-09T13:36:31.780872Z"
    }
   },
   "cell_type": "code",
   "source": [
    "diff = cp_dot(Wcp,Wcp) - 2*cp_dot(Wcp,Vcp) + cp_dot(Vcp,Vcp)\n",
    "print(diff)"
   ],
   "id": "622e25c76906e454",
   "outputs": [
    {
     "name": "stdout",
     "output_type": "stream",
     "text": [
      "1100.131246639761\n"
     ]
    }
   ],
   "execution_count": 79
  },
  {
   "metadata": {
    "ExecuteTime": {
     "end_time": "2024-12-09T13:36:33.432374Z",
     "start_time": "2024-12-09T13:36:33.426374Z"
    }
   },
   "cell_type": "code",
   "source": "cp_dot(Wcp,Wcp)",
   "id": "324920a973885196",
   "outputs": [
    {
     "data": {
      "text/plain": [
       "1880.2577816197636"
      ]
     },
     "execution_count": 80,
     "metadata": {},
     "output_type": "execute_result"
    }
   ],
   "execution_count": 80
  },
  {
   "metadata": {
    "ExecuteTime": {
     "end_time": "2024-12-09T13:36:35.456732Z",
     "start_time": "2024-12-09T13:36:35.435643Z"
    }
   },
   "cell_type": "code",
   "source": "tl.norm(W)**2",
   "id": "a1ce74ef56641e4d",
   "outputs": [
    {
     "data": {
      "text/plain": [
       "1880.2577816197636"
      ]
     },
     "execution_count": 81,
     "metadata": {},
     "output_type": "execute_result"
    }
   ],
   "execution_count": 81
  },
  {
   "metadata": {},
   "cell_type": "code",
   "outputs": [],
   "execution_count": null,
   "source": "",
   "id": "d992143faf89dab5"
  }
 ],
 "metadata": {
  "kernelspec": {
   "display_name": "Python 3",
   "language": "python",
   "name": "python3"
  },
  "language_info": {
   "codemirror_mode": {
    "name": "ipython",
    "version": 2
   },
   "file_extension": ".py",
   "mimetype": "text/x-python",
   "name": "python",
   "nbconvert_exporter": "python",
   "pygments_lexer": "ipython2",
   "version": "2.7.6"
  }
 },
 "nbformat": 4,
 "nbformat_minor": 5
}
